{
 "cells": [
  {
   "cell_type": "markdown",
   "metadata": {
    "id": "QiGcp6j9_QSz"
   },
   "source": [
    "## Soal UTS"
   ]
  },
  {
   "cell_type": "code",
   "execution_count": 3,
   "metadata": {
    "id": "RWdhQPRt8yrd"
   },
   "outputs": [],
   "source": [
    "\n",
    "# Data\n",
    "\n",
    "company_detail_list = [\n",
    "      {\n",
    "          'name': 'Company 1',\n",
    "          'domain': 'Retail',\n",
    "          'country': 'United States'\n",
    "      },\n",
    "      {\n",
    "          'name': 'Company 2',\n",
    "          'domain': 'Technology',\n",
    "          'country': 'United Kingdom'\n",
    "      },\n",
    "      {\n",
    "          'name': 'Company 3',\n",
    "          'domain': 'Healthcare',\n",
    "          'country': 'United States'\n",
    "      }\n",
    "  ]\n",
    "\n",
    "employee_detail_list = [\n",
    "     {\n",
    "          'name': 'EMP-0001',\n",
    "          'first_name': 'John',\n",
    "          'last_name': 'Doe',\n",
    "          'full_name': 'John Doe',\n",
    "          'company': 'Company 1',\n",
    "          'nationality': 'Australia'\n",
    "      },\n",
    "      {\n",
    "          'name': 'EMP-0002',\n",
    "          'first_name': 'Tom',\n",
    "          'last_name': 'Smith',\n",
    "          'full_name': 'Tom Smith',\n",
    "          'company': 'Company 2',\n",
    "          'nationality': 'United States'\n",
    "      },\n",
    "      {\n",
    "          'name': 'EMP-0003',\n",
    "          'first_name': 'Andrew',\n",
    "          'last_name': 'Sebastian',\n",
    "          'full_name': 'Andrew Sebastian',\n",
    "          'company': 'Company 3',\n",
    "          'nationality': 'United States'\n",
    "      },\n",
    "      {\n",
    "          'name': 'EMP-0005',\n",
    "          'first_name': 'Ying Han',\n",
    "          'last_name': 'Tan',\n",
    "          'full_name': 'Ying Han Tan',\n",
    "          'company': 'Company 1',\n",
    "          'nationality': 'Australia'\n",
    "      },\n",
    "      {\n",
    "          'name': 'EMP-0015',\n",
    "          'first_name': 'Kenneth',\n",
    "          'last_name': 'Ng',\n",
    "          'full_name': 'Kenneth Ng',\n",
    "          'company': 'Company 3',\n",
    "          'nationality': 'United States'\n",
    "      },\n",
    "      {\n",
    "          'name': 'EMP-0018',\n",
    "          'first_name': 'Rubby',\n",
    "          'last_name': 'Lee',\n",
    "          'full_name': 'Rubby Lee',\n",
    "          'company': 'Company 2',\n",
    "          'nationality': 'Hong Kong'\n",
    "      },\n",
    "     {\n",
    "          'name': 'EMP-0017',\n",
    "          'first_name': 'Robert',\n",
    "          'last_name': 'White',\n",
    "          'full_name': 'Robert White',\n",
    "          'company': 'Company 1',\n",
    "          'nationality': 'United Kingdom'\n",
    "      }\n",
    "  ]\n",
    "\n"
   ]
  },
  {
   "cell_type": "markdown",
   "metadata": {
    "id": "hxAkwucFjatO"
   },
   "source": [
    "The next few cells will show some examples on how to interact with our functions. Note that some of these function calls could be useful for you in completing the tasks below. "
   ]
  },
  {
   "cell_type": "markdown",
   "metadata": {
    "id": "097eOYQ-U5V2",
    "jp-MarkdownHeadingCollapsed": true
   },
   "source": [
    "## Task 1\n",
    "\n",
    "Please get the list of all Companies and sort by **Company Name** in reverse order.\n",
    "\n",
    "Expected result:\n",
    "\n",
    "\n",
    "```json\n",
    "[{\n",
    "    \"name\": \"Company 3\"\n",
    "}, {\n",
    "    \"name\": \"Company 2\"\n",
    "}, {\n",
    "    \"name\": \"Company 1\"\n",
    "}]\n",
    "```\n",
    "\n"
   ]
  },
  {
   "cell_type": "code",
   "execution_count": 4,
   "metadata": {},
   "outputs": [
    {
     "name": "stdout",
     "output_type": "stream",
     "text": [
      "[{'name': 'Company 3'}, {'name': 'Company 2'}, {'name': 'Company 1'}]\n"
     ]
    }
   ],
   "source": [
    "company_detail_list = [\n",
    "    {\"name\": \"Company 1\"},\n",
    "    {\"name\": \"Company 2\"},\n",
    "    {\"name\": \"Company 3\"},\n",
    "]\n",
    "\n",
    "sorted_companies = sorted(\n",
    "    [{\"name\": company[\"name\"]} for company in company_detail_list],\n",
    "    key=lambda x: x[\"name\"],\n",
    "    reverse=True,\n",
    ")\n",
    "\n",
    "print(sorted_companies)"
   ]
  },
  {
   "cell_type": "markdown",
   "metadata": {
    "id": "sFbEZt5JoxMJ"
   },
   "source": [
    "## Soal 2\n",
    "\n",
    "Please print all Domain value in every company (use print statement).\n",
    "\n",
    "Expected return:\n",
    "\n",
    "```\n",
    "    Company 1: Retail (United States)\n",
    "    Company 2: Technology (United Kingdom)\n",
    "    Company 3: Healthcare (United States)\n",
    "```\n",
    "\n",
    "\n"
   ]
  },
  {
   "cell_type": "code",
   "execution_count": 6,
   "metadata": {},
   "outputs": [
    {
     "name": "stdout",
     "output_type": "stream",
     "text": [
      "Company 1: Retail (United States)\n",
      "Company 2: Technology (United Kingdom)\n",
      "Company 3: Healthcare (United States)\n"
     ]
    }
   ],
   "source": [
    "company_detail_list = [\n",
    "    {\"name\": \"Company 1\", \"domain\": \"Retail\", \"country\": \"United States\"},\n",
    "    {\"name\": \"Company 2\", \"domain\": \"Technology\", \"country\": \"United Kingdom\"},\n",
    "    {\"name\": \"Company 3\", \"domain\": \"Healthcare\", \"country\": \"United States\"},\n",
    "]\n",
    "\n",
    "for company in company_detail_list:\n",
    "    print(f\"{company['name']}: {company['domain']} ({company['country']})\")\n"
   ]
  },
  {
   "cell_type": "markdown",
   "metadata": {
    "id": "d617U0r8wvOd"
   },
   "source": [
    "## Task 3\n",
    "\n",
    "List all Employees work By company domain.\n",
    "\n",
    "Expected return:\n",
    "\n",
    "```json\n",
    "{\n",
    "    \"Retail\": [\n",
    "         \"John Doe\",\n",
    "         \"Robert White\",\n",
    "         \"Ying Han Tan\"\n",
    "     ],\n",
    "    \"Technology\":[\n",
    "          \"Tom Smith\",\n",
    "          \"Rubby Lee\",\n",
    "     ],\n",
    "    \"Healthcare\": [\n",
    "         \"Kenneth Ng\",\n",
    "         \"Andrew Sebastian\"\n",
    "     ],\n",
    "}\n",
    "```\n",
    "\n"
   ]
  },
  {
   "cell_type": "code",
   "execution_count": 8,
   "metadata": {},
   "outputs": [
    {
     "name": "stdout",
     "output_type": "stream",
     "text": [
      "Retail:\n",
      "  - John Doe\n",
      "  - Ying Han Tan\n",
      "  - Robert White\n",
      "Technology:\n",
      "  - Tom Smith\n",
      "  - Rubby Lee\n",
      "Healthcare:\n",
      "  - Andrew Sebastian\n",
      "  - Kenneth Ng\n"
     ]
    }
   ],
   "source": [
    "from collections import defaultdict\n",
    "\n",
    "employee_detail_list = [\n",
    "    {\"name\": \"EMP-0001\", \"first_name\": \"John\", \"last_name\": \"Doe\", \"full_name\": \"John Doe\", \"company\": \"Company 1\", \"nationality\": \"Australia\"},\n",
    "    {\"name\": \"EMP-0002\", \"first_name\": \"Tom\", \"last_name\": \"Smith\", \"full_name\": \"Tom Smith\", \"company\": \"Company 2\", \"nationality\": \"United States\"},\n",
    "    {\"name\": \"EMP-0003\", \"first_name\": \"Andrew\", \"last_name\": \"Sebastian\", \"full_name\": \"Andrew Sebastian\", \"company\": \"Company 3\", \"nationality\": \"United States\"},\n",
    "    {\"name\": \"EMP-0005\", \"first_name\": \"Ying Han\", \"last_name\": \"Tan\", \"full_name\": \"Ying Han Tan\", \"company\": \"Company 1\", \"nationality\": \"Australia\"},\n",
    "    {\"name\": \"EMP-0015\", \"first_name\": \"Kenneth\", \"last_name\": \"Ng\", \"full_name\": \"Kenneth Ng\", \"company\": \"Company 3\", \"nationality\": \"United States\"},\n",
    "    {\"name\": \"EMP-0018\", \"first_name\": \"Rubby\", \"last_name\": \"Lee\", \"full_name\": \"Rubby Lee\", \"company\": \"Company 2\", \"nationality\": \"Hong Kong\"},\n",
    "    {\"name\": \"EMP-0017\", \"first_name\": \"Robert\", \"last_name\": \"White\", \"full_name\": \"Robert White\", \"company\": \"Company 1\", \"nationality\": \"United Kingdom\"},\n",
    "]\n",
    "\n",
    "domain_employees = defaultdict(list)\n",
    "company_domains = {company[\"name\"]: company[\"domain\"] for company in company_detail_list}\n",
    "\n",
    "for employee in employee_detail_list:\n",
    "    domain = company_domains[employee[\"company\"]]\n",
    "    domain_employees[domain].append(employee[\"full_name\"])\n",
    "\n",
    "for domain, employees in domain_employees.items():\n",
    "    print(f\"{domain}:\")\n",
    "    for employee in employees:\n",
    "        print(f\"  - {employee}\")"
   ]
  },
  {
   "cell_type": "markdown",
   "metadata": {
    "id": "-a7IODNT3w0F"
   },
   "source": [
    "## Task 4\n",
    "\n",
    "Create a function that return employees with it's company country.\n",
    "\n",
    "Expected return:\n",
    "\n",
    "\n",
    "```json\n",
    "[{\n",
    "    \"full_name\": \"John Doe\",\n",
    "    \"company\": \"Company 1\",\n",
    "    \"country\": \"United States\"\n",
    "}, {\n",
    "    \"full_name\": \"Tom Smith\",\n",
    "    \"company\": \"Company 2\",\n",
    "    \"country\": \"United Kingdom\"\n",
    "}, {\n",
    "    \"full_name\": \"Andrew Sebastian\",\n",
    "    \"company\": \"Company 3\",\n",
    "    \"country\": \"United Kingdom\"\n",
    "},  {\n",
    "    \"full_name\": \"Ying Han Tan\",\n",
    "    \"company\": \"Company 1\",\n",
    "    \"country\": \"United States\"\n",
    "},  {\n",
    "    \"full_name\": \"Kenneth Ng\",\n",
    "    \"company\": \"Company 3\",\n",
    "    \"country\": \"United States\"\n",
    "},  {\n",
    "    \"full_name\": \"Rubby Lee\",\n",
    "    \"company\": \"Company 2\",\n",
    "    \"country\": \"United Kingdom\"\n",
    "},   {\n",
    "    \"full_name\": \"Robert White\",\n",
    "    \"company\": \"Company 1\",\n",
    "    \"country\": \"United States\"\n",
    "},\n",
    "    \n",
    "]\n",
    "```\n",
    "\n"
   ]
  },
  {
   "cell_type": "code",
   "execution_count": 11,
   "metadata": {},
   "outputs": [
    {
     "name": "stdout",
     "output_type": "stream",
     "text": [
      "full_name: John Doe\n",
      "company: Company 1\n",
      "country: United States\n",
      "\n",
      "full_name: Tom Smith\n",
      "company: Company 2\n",
      "country: United Kingdom\n",
      "\n",
      "full_name: Andrew Sebastian\n",
      "company: Company 3\n",
      "country: United States\n",
      "\n",
      "full_name: Ying Han Tan\n",
      "company: Company 1\n",
      "country: United States\n",
      "\n",
      "full_name: Kenneth Ng\n",
      "company: Company 3\n",
      "country: United States\n",
      "\n",
      "full_name: Rubby Lee\n",
      "company: Company 2\n",
      "country: United Kingdom\n",
      "\n",
      "full_name: Robert White\n",
      "company: Company 1\n",
      "country: United States\n",
      "\n"
     ]
    }
   ],
   "source": [
    "def employees_with_company_country(employee_list, company_list):\n",
    "    company_countries = {company[\"name\"]: company[\"country\"] for company in company_list}\n",
    "    return [\n",
    "        {\n",
    "            \"full_name\": emp[\"full_name\"],\n",
    "            \"company\": emp[\"company\"],\n",
    "            \"country\": company_countries[emp[\"company\"]],\n",
    "        }\n",
    "        for emp in employee_list\n",
    "    ]\n",
    "\n",
    "employees = employees_with_company_country(employee_detail_list, company_detail_list)\n",
    "\n",
    "for emp in employees:\n",
    "    print(f\"full_name: {emp['full_name']}\")\n",
    "    print(f\"company: {emp['company']}\")\n",
    "    print(f\"country: {emp['country']}\")\n",
    "    print()\n"
   ]
  },
  {
   "cell_type": "markdown",
   "metadata": {
    "id": "TXhXCiOrFcev"
   },
   "source": [
    "## Task 5\n",
    "\n",
    "Create a function that return companies with a number of employees nationality that are working in the company.\n",
    "\n",
    "Expected return:\n",
    "\n",
    "\n",
    "```json\n",
    "[{\n",
    "    \"company\": \"Company 1\",\n",
    "    \"employee_nationality\": {\n",
    "        \"Australia\": 2,\n",
    "        \"Hong Kong\": 1\n",
    "    }\n",
    "}, {\n",
    "    \"company\": \"Company 2\",\n",
    "    \"employee_nationality\": {\n",
    "        \"Hong Kong\": 1,\n",
    "        \"United States\": 1\n",
    "    }\n",
    "}, {\n",
    "    \"company\": \"Company 3\",\n",
    "    \"employee_nationality\": {\n",
    "        \"United States\": 2\n",
    "    }\n",
    "}]\n",
    "```\n",
    "\n"
   ]
  },
  {
   "cell_type": "code",
   "execution_count": 17,
   "metadata": {},
   "outputs": [
    {
     "name": "stdout",
     "output_type": "stream",
     "text": [
      "[\n",
      "    {\n",
      "        \"company\": \"Company 1\",\n",
      "        \"employee_nationality\": {\n",
      "            \"Australia\": 2,\n",
      "            \"United Kingdom\": 1\n",
      "        }\n",
      "    },\n",
      "    {\n",
      "        \"company\": \"Company 2\",\n",
      "        \"employee_nationality\": {\n",
      "            \"United States\": 1,\n",
      "            \"Hong Kong\": 1\n",
      "        }\n",
      "    },\n",
      "    {\n",
      "        \"company\": \"Company 3\",\n",
      "        \"employee_nationality\": {\n",
      "            \"United States\": 2\n",
      "        }\n",
      "    }\n",
      "]\n"
     ]
    }
   ],
   "source": [
    "def company_employee_nationalities(employee_list, company_list):\n",
    "    nationality_count = defaultdict(lambda: defaultdict(int))\n",
    "    \n",
    "    for emp in employee_list:\n",
    "        nationality_count[emp[\"company\"]][emp[\"nationality\"]] += 1\n",
    "    \n",
    "    result = []\n",
    "    for company in company_list:\n",
    "        company_name = company[\"name\"]\n",
    "        result.append({\n",
    "            \"company\": company_name,\n",
    "            \"employee_nationality\": dict(nationality_count[company_name]),\n",
    "        })\n",
    "    \n",
    "    return result\n",
    "\n",
    "result = company_employee_nationalities(employee_detail_list, company_detail_list)\n",
    "\n",
    "import json\n",
    "print(json.dumps(result, indent=4))"
   ]
  }
 ],
 "metadata": {
  "colab": {
   "collapsed_sections": [],
   "name": "AT Backend Test.ipynb",
   "provenance": [
    {
     "file_id": "1vK5VvfGC3SQ_onwiFXNdtvWQRvHAbeZa",
     "timestamp": 1650627195682
    },
    {
     "file_id": "1hHOgmPPwUDtWvGuaz2tuclaa6MJYUmIm",
     "timestamp": 1650504460415
    },
    {
     "file_id": "1HSO3CG0-7R5jptBBEx-CDHIDRjXgXmrl",
     "timestamp": 1650255042674
    }
   ]
  },
  "kernelspec": {
   "display_name": "Python 3",
   "language": "python",
   "name": "python3"
  },
  "language_info": {
   "codemirror_mode": {
    "name": "ipython",
    "version": 3
   },
   "file_extension": ".py",
   "mimetype": "text/x-python",
   "name": "python",
   "nbconvert_exporter": "python",
   "pygments_lexer": "ipython3",
   "version": "3.11.9"
  }
 },
 "nbformat": 4,
 "nbformat_minor": 4
}
